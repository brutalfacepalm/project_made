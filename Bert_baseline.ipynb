{
 "cells": [
  {
   "cell_type": "code",
   "execution_count": 1,
   "id": "6229a47a",
   "metadata": {},
   "outputs": [],
   "source": [
    "import pickle\n",
    "import os\n",
    "\n",
    "import numpy as np\n",
    "import pandas as pd\n",
    "\n",
    "import matplotlib.pyplot as plt\n",
    "\n",
    "\n",
    "from sklearn.model_selection import train_test_split\n",
    "from sklearn.metrics import precision_recall_curve, recall_score\n",
    "\n",
    "import swifter\n",
    "from tqdm import tqdm \n",
    "\n",
    "import torch\n",
    "from torch import nn\n",
    "from torch.nn import functional as F\n",
    "\n",
    "from torchmetrics import BinnedRecallAtFixedPrecision\n",
    "\n",
    "from transformers import AutoTokenizer, AutoModel\n",
    "\n",
    "#!pip install https://github.com/ufoym/imbalanced-dataset-sampler/archive/master.zip\n",
    "from torchsampler import ImbalancedDatasetSampler\n",
    "\n",
    "\n",
    "\n",
    "DATA_DIR = 'data'"
   ]
  },
  {
   "cell_type": "code",
   "execution_count": 2,
   "id": "fd3e889f",
   "metadata": {},
   "outputs": [
    {
     "data": {
      "text/html": [
       "<div>\n",
       "<style scoped>\n",
       "    .dataframe tbody tr th:only-of-type {\n",
       "        vertical-align: middle;\n",
       "    }\n",
       "\n",
       "    .dataframe tbody tr th {\n",
       "        vertical-align: top;\n",
       "    }\n",
       "\n",
       "    .dataframe thead th {\n",
       "        text-align: right;\n",
       "    }\n",
       "</style>\n",
       "<table border=\"1\" class=\"dataframe\">\n",
       "  <thead>\n",
       "    <tr style=\"text-align: right;\">\n",
       "      <th></th>\n",
       "      <th>product_id</th>\n",
       "      <th>category</th>\n",
       "      <th>name_dish</th>\n",
       "      <th>product_description</th>\n",
       "      <th>price</th>\n",
       "      <th>tags_menu</th>\n",
       "    </tr>\n",
       "  </thead>\n",
       "  <tbody>\n",
       "    <tr>\n",
       "      <th>0</th>\n",
       "      <td>300146805</td>\n",
       "      <td>Пицца</td>\n",
       "      <td>Милан, фирменная пицца</td>\n",
       "      <td>Болгарский перец, Грибы, Помидоры, Свиная выре...</td>\n",
       "      <td>620.0</td>\n",
       "      <td>{'пицца': 1}</td>\n",
       "    </tr>\n",
       "    <tr>\n",
       "      <th>1</th>\n",
       "      <td>300146840</td>\n",
       "      <td>Пицца</td>\n",
       "      <td>Фермерская пицца</td>\n",
       "      <td>Пицца соус сливочный, Ветчина(индейка), Говяжи...</td>\n",
       "      <td>650.0</td>\n",
       "      <td>{'пицца': 1}</td>\n",
       "    </tr>\n",
       "    <tr>\n",
       "      <th>2</th>\n",
       "      <td>300146870</td>\n",
       "      <td>Пицца</td>\n",
       "      <td>Пицца \"Четыре сезона\"</td>\n",
       "      <td>Болгарский перец, Грибы, Лук, Маслины, Оливки,...</td>\n",
       "      <td>550.0</td>\n",
       "      <td>{'пицца': 1}</td>\n",
       "    </tr>\n",
       "    <tr>\n",
       "      <th>3</th>\n",
       "      <td>300146918</td>\n",
       "      <td>Пицца</td>\n",
       "      <td>Деревенская пицца</td>\n",
       "      <td>Бекон, Ветчина(индейка), Грибы, Лук, Помидоры,...</td>\n",
       "      <td>620.0</td>\n",
       "      <td>{'пицца': 1}</td>\n",
       "    </tr>\n",
       "    <tr>\n",
       "      <th>4</th>\n",
       "      <td>300146996</td>\n",
       "      <td>Пицца</td>\n",
       "      <td>Пицца маргарита</td>\n",
       "      <td>Пицца соус томатный, Сыр Моцарелла.</td>\n",
       "      <td>490.0</td>\n",
       "      <td>{'пицца': 1}</td>\n",
       "    </tr>\n",
       "    <tr>\n",
       "      <th>...</th>\n",
       "      <td>...</td>\n",
       "      <td>...</td>\n",
       "      <td>...</td>\n",
       "      <td>...</td>\n",
       "      <td>...</td>\n",
       "      <td>...</td>\n",
       "    </tr>\n",
       "    <tr>\n",
       "      <th>166</th>\n",
       "      <td>331415930</td>\n",
       "      <td>Драники</td>\n",
       "      <td>Картофельный драник со слабосоленым лососем и ...</td>\n",
       "      <td></td>\n",
       "      <td>530.0</td>\n",
       "      <td>{'драники': 1}</td>\n",
       "    </tr>\n",
       "    <tr>\n",
       "      <th>167</th>\n",
       "      <td>331415931</td>\n",
       "      <td>Драники</td>\n",
       "      <td>Драник из свеклы</td>\n",
       "      <td></td>\n",
       "      <td>195.0</td>\n",
       "      <td>{'драники': 1}</td>\n",
       "    </tr>\n",
       "    <tr>\n",
       "      <th>168</th>\n",
       "      <td>331415932</td>\n",
       "      <td>Драники</td>\n",
       "      <td>Драник из капусты</td>\n",
       "      <td></td>\n",
       "      <td>195.0</td>\n",
       "      <td>{'драники': 1}</td>\n",
       "    </tr>\n",
       "    <tr>\n",
       "      <th>169</th>\n",
       "      <td>333962918</td>\n",
       "      <td>Драники</td>\n",
       "      <td>Драники картофельные</td>\n",
       "      <td>3 шт</td>\n",
       "      <td>139.0</td>\n",
       "      <td>{'драники': 1}</td>\n",
       "    </tr>\n",
       "    <tr>\n",
       "      <th>170</th>\n",
       "      <td>335255634</td>\n",
       "      <td>Драники</td>\n",
       "      <td>Драники картофельные 3шт</td>\n",
       "      <td></td>\n",
       "      <td>139.0</td>\n",
       "      <td>{'драники': 1}</td>\n",
       "    </tr>\n",
       "  </tbody>\n",
       "</table>\n",
       "<p>2050016 rows × 6 columns</p>\n",
       "</div>"
      ],
      "text/plain": [
       "     product_id category                                          name_dish  \\\n",
       "0     300146805    Пицца                             Милан, фирменная пицца   \n",
       "1     300146840    Пицца                                   Фермерская пицца   \n",
       "2     300146870    Пицца                              Пицца \"Четыре сезона\"   \n",
       "3     300146918    Пицца                                  Деревенская пицца   \n",
       "4     300146996    Пицца                                    Пицца маргарита   \n",
       "..          ...      ...                                                ...   \n",
       "166   331415930  Драники  Картофельный драник со слабосоленым лососем и ...   \n",
       "167   331415931  Драники                                   Драник из свеклы   \n",
       "168   331415932  Драники                                  Драник из капусты   \n",
       "169   333962918  Драники                               Драники картофельные   \n",
       "170   335255634  Драники                           Драники картофельные 3шт   \n",
       "\n",
       "                                   product_description  price       tags_menu  \n",
       "0    Болгарский перец, Грибы, Помидоры, Свиная выре...  620.0    {'пицца': 1}  \n",
       "1    Пицца соус сливочный, Ветчина(индейка), Говяжи...  650.0    {'пицца': 1}  \n",
       "2    Болгарский перец, Грибы, Лук, Маслины, Оливки,...  550.0    {'пицца': 1}  \n",
       "3    Бекон, Ветчина(индейка), Грибы, Лук, Помидоры,...  620.0    {'пицца': 1}  \n",
       "4                  Пицца соус томатный, Сыр Моцарелла.  490.0    {'пицца': 1}  \n",
       "..                                                 ...    ...             ...  \n",
       "166                                                     530.0  {'драники': 1}  \n",
       "167                                                     195.0  {'драники': 1}  \n",
       "168                                                     195.0  {'драники': 1}  \n",
       "169                                               3 шт  139.0  {'драники': 1}  \n",
       "170                                                     139.0  {'драники': 1}  \n",
       "\n",
       "[2050016 rows x 6 columns]"
      ]
     },
     "execution_count": 2,
     "metadata": {},
     "output_type": "execute_result"
    }
   ],
   "source": [
    "datapath = os.path.join(DATA_DIR, 'menu_df_for_made.pkl')\n",
    "with open(datapath, 'rb') as pickle_file:\n",
    "    df = pickle.load(pickle_file)\n",
    "df    "
   ]
  },
  {
   "cell_type": "code",
   "execution_count": 3,
   "id": "13060383",
   "metadata": {},
   "outputs": [
    {
     "data": {
      "text/plain": [
       "{'суши и роллы': 1}           554570\n",
       "{'прочие напитки': 1}         319952\n",
       "{'пицца': 1}                  297939\n",
       "{'салат': 1}                  181316\n",
       "{'сет': 1}                    142169\n",
       "{'соус': 1}                   117449\n",
       "{'гарниры': 1}                 71224\n",
       "{'бургер': 1}                  52014\n",
       "{'вок и лапша': 1}             45156\n",
       "{'паста и ризотто': 1}         35556\n",
       "{'закуски': 1}                 30962\n",
       "{'шашлык': 1}                  28106\n",
       "{'шаурма': 1}                  26208\n",
       "{'пироги': 1}                  21769\n",
       "{'сендвич': 1}                 20793\n",
       "{'блины и оладьи': 1}          11163\n",
       "{'рыба и морепродукты': 1}      9686\n",
       "{'торты и пирожные': 1}         8221\n",
       "{'поке и боулы': 1}             8028\n",
       "{'пельмени и вареники': 1}      7989\n",
       "{'хинкали и манты': 1}          7756\n",
       "{'вегетарианская еда': 1}       7575\n",
       "{'хлеб': 1}                     7519\n",
       "{'кофе': 1}                     6047\n",
       "{'птица': 1}                    5865\n",
       "{'мясо': 1}                     5605\n",
       "{'стейк': 1}                    4872\n",
       "{'мороженое': 1}                4496\n",
       "{'хачапури': 1}                 3812\n",
       "{'прочий фастфуд': 1}           2568\n",
       "{'пончики': 1}                  1034\n",
       "{'пирожки': 1}                  1017\n",
       "{'плов': 1}                      567\n",
       "{'каша и гранола': 1}            369\n",
       "{'сырники и запеканки': 1}       237\n",
       "{'драники': 1}                   171\n",
       "{'азиатский суп': 1}             111\n",
       "{'омлет и яичница': 1}            96\n",
       "{'прочие супы': 1}                28\n",
       "Name: tags_menu, dtype: int64"
      ]
     },
     "execution_count": 3,
     "metadata": {},
     "output_type": "execute_result"
    }
   ],
   "source": [
    "df['tags_menu'] = df['tags_menu'].apply(str)\n",
    "df.dropna(inplace = True)\n",
    "df.drop_duplicates(inplace = True)\n",
    "df['id'] = np.arange(len(df))\n",
    "\n",
    "df['tags_menu'].value_counts()"
   ]
  },
  {
   "cell_type": "code",
   "execution_count": 4,
   "id": "63a4a2a3",
   "metadata": {},
   "outputs": [],
   "source": [
    "tags = df['tags_menu'].value_counts().index.values\n",
    "tag_to_idx = {\n",
    "    tag : i\n",
    "    for i, tag in enumerate(tags)\n",
    "}\n",
    "idx_to_tag = {\n",
    "    i : tag\n",
    "    for i, tag in enumerate(tags)\n",
    "}"
   ]
  },
  {
   "cell_type": "code",
   "execution_count": 5,
   "id": "7cb0f9f4",
   "metadata": {},
   "outputs": [],
   "source": [
    "df['target'] = df['tags_menu'].map(tag_to_idx)"
   ]
  },
  {
   "cell_type": "code",
   "execution_count": 6,
   "id": "54bdbc8f",
   "metadata": {},
   "outputs": [
    {
     "data": {
      "text/plain": [
       "(2049909, 2050015)"
      ]
     },
     "execution_count": 6,
     "metadata": {},
     "output_type": "execute_result"
    }
   ],
   "source": [
    "df.product_id.unique().size, len(df)"
   ]
  },
  {
   "cell_type": "code",
   "execution_count": 7,
   "id": "ebcd1db9",
   "metadata": {},
   "outputs": [],
   "source": [
    "def sample_by_target(df, target_value, n, random_state=1):\n",
    "    df_target = df[df.target == target_value]\n",
    "    return df_target.sample(n=n, random_state=random_state) if len(df_target) > n else df_target"
   ]
  },
  {
   "cell_type": "code",
   "execution_count": 8,
   "id": "dc9a9ac2",
   "metadata": {},
   "outputs": [],
   "source": [
    "df_sample = pd.concat(\n",
    "                [sample_by_target(df, name, 10000, random_state=i)\n",
    "                 for i, name in enumerate(df.target.unique())],\n",
    "                axis=0).reset_index(drop=True)"
   ]
  },
  {
   "cell_type": "code",
   "execution_count": 9,
   "id": "db8668bc",
   "metadata": {},
   "outputs": [],
   "source": [
    "df_reserv = df[~df['id'].isin(df_sample['id'])]"
   ]
  },
  {
   "cell_type": "code",
   "execution_count": 10,
   "id": "4017976d",
   "metadata": {},
   "outputs": [
    {
     "data": {
      "text/plain": [
       "(2050015, 253669, 1796346, True)"
      ]
     },
     "execution_count": 10,
     "metadata": {},
     "output_type": "execute_result"
    }
   ],
   "source": [
    "len(df), len(df_sample), len(df_reserv), len(df) == len(df_sample) +len(df_reserv)"
   ]
  },
  {
   "cell_type": "code",
   "execution_count": 11,
   "id": "e45aae73",
   "metadata": {},
   "outputs": [
    {
     "data": {
      "text/plain": [
       "0     10000\n",
       "1     10000\n",
       "15    10000\n",
       "14    10000\n",
       "13    10000\n",
       "12    10000\n",
       "11    10000\n",
       "10    10000\n",
       "9     10000\n",
       "8     10000\n",
       "7     10000\n",
       "6     10000\n",
       "5     10000\n",
       "4     10000\n",
       "3     10000\n",
       "2     10000\n",
       "16     9686\n",
       "17     8221\n",
       "18     8028\n",
       "19     7989\n",
       "20     7756\n",
       "21     7575\n",
       "22     7519\n",
       "23     6047\n",
       "24     5865\n",
       "25     5605\n",
       "26     4872\n",
       "27     4496\n",
       "28     3812\n",
       "29     2568\n",
       "30     1034\n",
       "31     1017\n",
       "32      567\n",
       "33      369\n",
       "34      237\n",
       "35      171\n",
       "36      111\n",
       "37       96\n",
       "38       28\n",
       "Name: target, dtype: int64"
      ]
     },
     "execution_count": 11,
     "metadata": {},
     "output_type": "execute_result"
    }
   ],
   "source": [
    "df_sample['target'].value_counts()"
   ]
  },
  {
   "cell_type": "code",
   "execution_count": 12,
   "id": "6ea2fe9b",
   "metadata": {},
   "outputs": [],
   "source": [
    "class Rubert:\n",
    "    def __init__(self):\n",
    "        self.tokenizer = AutoTokenizer.from_pretrained(\"cointegrated/rubert-tiny\")\n",
    "        self.model = AutoModel.from_pretrained(\"cointegrated/rubert-tiny\")\n",
    "        self.model.eval()\n",
    "        \n",
    "    def text_emb(self, text):\n",
    "        t = self.tokenizer(text, padding=True, truncation=True, return_tensors='pt')\n",
    "        with torch.no_grad():\n",
    "            model_output = self.model(**{k: v.to(self.model.device) for k, v in t.items()})\n",
    "        embeddings = model_output.last_hidden_state[:, 0, :]\n",
    "        embeddings = torch.nn.functional.normalize(embeddings)\n",
    "        return embeddings[0].cpu().numpy() "
   ]
  },
  {
   "cell_type": "code",
   "execution_count": 13,
   "id": "72d4f6dd",
   "metadata": {},
   "outputs": [],
   "source": [
    "def text_emb(df):\n",
    "    texts = df['name_dish'] + ' ' + df['product_description']\n",
    "    texts = texts.str.lower().values\n",
    "    \n",
    "    rubert_model = Rubert()\n",
    "    emb = [rubert_model.text_emb(text) for text in tqdm(texts)]\n",
    "    \n",
    "    return np.array(emb)\n",
    "\n",
    "def cash_text_emb(df, filepath):\n",
    "    if not os.path.exists(filepath):\n",
    "        if not os.path.exists(os.path.dirname(filepath)):\n",
    "            os.mkdir(os.path.dirname(filepath))\n",
    "\n",
    "        emb = text_emb(df)\n",
    "        target = df['target'].values\n",
    "        with open(filepath, 'wb') as handle:\n",
    "            pickle.dump([emb, target], handle)\n",
    "    else:\n",
    "        with open(filepath, 'rb') as handle:\n",
    "            emb, target = pickle.load(handle)  \n",
    "    return emb, target"
   ]
  },
  {
   "cell_type": "code",
   "execution_count": 14,
   "id": "bcc526de",
   "metadata": {},
   "outputs": [
    {
     "name": "stdout",
     "output_type": "stream",
     "text": [
      "CPU times: user 765 µs, sys: 112 ms, total: 113 ms\n",
      "Wall time: 113 ms\n"
     ]
    }
   ],
   "source": [
    "%%time\n",
    "emb_path = os.path.join(DATA_DIR, 'sample', 'text_emb_10000.pkl')\n",
    "emb_sample, target_sample = cash_text_emb(df_sample, emb_path)"
   ]
  },
  {
   "cell_type": "code",
   "execution_count": 15,
   "id": "13f625f5",
   "metadata": {},
   "outputs": [],
   "source": [
    "X = emb_sample\n",
    "y = target_sample\n",
    "X_train, X_test, y_train, y_test =   train_test_split(X, y, \n",
    "                                                      stratify=y, \n",
    "                                                      test_size=0.1)\n",
    "X_train, X_valid, y_train, y_valid = train_test_split(X_train, y_train,\n",
    "                                                      stratify=y_train,\n",
    "                                                      test_size=0.3)"
   ]
  },
  {
   "cell_type": "code",
   "execution_count": 16,
   "id": "8ab87bb3",
   "metadata": {},
   "outputs": [],
   "source": [
    "train_dataset = torch.utils.data.TensorDataset(torch.FloatTensor(X_train), torch.LongTensor(y_train))"
   ]
  },
  {
   "cell_type": "code",
   "execution_count": 17,
   "id": "dc4578ba",
   "metadata": {},
   "outputs": [],
   "source": [
    "train_loader = torch.utils.data.DataLoader(\n",
    "    train_dataset,\n",
    "    sampler=ImbalancedDatasetSampler(train_dataset, \n",
    "                                     callback_get_label=lambda d: d.tensors[1]\n",
    "                                    ),\n",
    "    batch_size=64\n",
    ")"
   ]
  },
  {
   "cell_type": "code",
   "execution_count": null,
   "id": "32d4a41d",
   "metadata": {},
   "outputs": [],
   "source": []
  },
  {
   "cell_type": "code",
   "execution_count": 18,
   "id": "cc4dd70c",
   "metadata": {},
   "outputs": [],
   "source": [
    "def init_weights(layer):\n",
    "    if type(layer) == nn.Linear:\n",
    "        nn.init.xavier_normal_(layer.weight)\n",
    "        #nn.init.uniform_(layer.weight)"
   ]
  },
  {
   "cell_type": "code",
   "execution_count": 19,
   "id": "d13db23f",
   "metadata": {},
   "outputs": [],
   "source": [
    "model = nn.Sequential(\n",
    "    nn.Linear(312, 39),\n",
    "    )\n",
    "#model.apply(init_weights)\n",
    "model.train()\n",
    "\n",
    "criterion = nn.CrossEntropyLoss()\n",
    "\n",
    "optimizer = torch.optim.Adam(model.parameters(), lr=1e-3)\n"
   ]
  },
  {
   "cell_type": "code",
   "execution_count": 20,
   "id": "9ac86b54",
   "metadata": {},
   "outputs": [],
   "source": [
    "def train_model(net, criterion, optimizer, trainloader, num_epochs=5):\n",
    "    for epoch in range(num_epochs):\n",
    "        running_loss = 0.0\n",
    "        for i, data in enumerate(trainloader, 0):\n",
    "            inputs, labels = data\n",
    "            \n",
    "            optimizer.zero_grad()\n",
    "            \n",
    "            preds = net(inputs)\n",
    "            loss = criterion(preds, labels)\n",
    "            loss.backward()\n",
    "            optimizer.step()\n",
    "\n",
    "            running_loss += loss.item()\n",
    "            if i % 200 == 199:\n",
    "                print('Epoch {0}/{1}, iteration {2}, loss: {3:.3f}'.format(epoch + 1, num_epochs, i + 1, \n",
    "                                                                          running_loss / 200))\n",
    "                running_loss = 0.0\n",
    "        print()\n",
    "\n",
    "    print('Finished Training')\n",
    "    \n",
    "    return net"
   ]
  },
  {
   "cell_type": "code",
   "execution_count": 21,
   "id": "b9a4a239",
   "metadata": {},
   "outputs": [
    {
     "name": "stdout",
     "output_type": "stream",
     "text": [
      "Epoch 1/10, iteration 200, loss: 3.563\n",
      "Epoch 1/10, iteration 400, loss: 3.398\n",
      "Epoch 1/10, iteration 600, loss: 3.276\n",
      "Epoch 1/10, iteration 800, loss: 3.174\n",
      "Epoch 1/10, iteration 1000, loss: 3.076\n",
      "Epoch 1/10, iteration 1200, loss: 3.001\n",
      "Epoch 1/10, iteration 1400, loss: 2.936\n",
      "Epoch 1/10, iteration 1600, loss: 2.879\n",
      "Epoch 1/10, iteration 1800, loss: 2.805\n",
      "Epoch 1/10, iteration 2000, loss: 2.757\n",
      "Epoch 1/10, iteration 2200, loss: 2.704\n",
      "Epoch 1/10, iteration 2400, loss: 2.647\n",
      "\n",
      "Epoch 2/10, iteration 200, loss: 2.576\n",
      "Epoch 2/10, iteration 400, loss: 2.540\n",
      "Epoch 2/10, iteration 600, loss: 2.494\n",
      "Epoch 2/10, iteration 800, loss: 2.456\n",
      "Epoch 2/10, iteration 1000, loss: 2.430\n",
      "Epoch 2/10, iteration 1200, loss: 2.395\n",
      "Epoch 2/10, iteration 1400, loss: 2.343\n",
      "Epoch 2/10, iteration 1600, loss: 2.335\n",
      "Epoch 2/10, iteration 1800, loss: 2.282\n",
      "Epoch 2/10, iteration 2000, loss: 2.274\n",
      "Epoch 2/10, iteration 2200, loss: 2.240\n",
      "Epoch 2/10, iteration 2400, loss: 2.235\n",
      "\n",
      "Epoch 3/10, iteration 200, loss: 2.200\n",
      "Epoch 3/10, iteration 400, loss: 2.159\n",
      "Epoch 3/10, iteration 600, loss: 2.134\n",
      "Epoch 3/10, iteration 800, loss: 2.104\n",
      "Epoch 3/10, iteration 1000, loss: 2.097\n",
      "Epoch 3/10, iteration 1200, loss: 2.077\n",
      "Epoch 3/10, iteration 1400, loss: 2.052\n",
      "Epoch 3/10, iteration 1600, loss: 2.033\n",
      "Epoch 3/10, iteration 1800, loss: 2.028\n",
      "Epoch 3/10, iteration 2000, loss: 2.014\n",
      "Epoch 3/10, iteration 2200, loss: 1.988\n",
      "Epoch 3/10, iteration 2400, loss: 1.972\n",
      "\n",
      "Epoch 4/10, iteration 200, loss: 1.943\n",
      "Epoch 4/10, iteration 400, loss: 1.935\n",
      "Epoch 4/10, iteration 600, loss: 1.925\n",
      "Epoch 4/10, iteration 800, loss: 1.900\n",
      "Epoch 4/10, iteration 1000, loss: 1.874\n",
      "Epoch 4/10, iteration 1200, loss: 1.870\n",
      "Epoch 4/10, iteration 1400, loss: 1.896\n",
      "Epoch 4/10, iteration 1600, loss: 1.870\n",
      "Epoch 4/10, iteration 1800, loss: 1.848\n",
      "Epoch 4/10, iteration 2000, loss: 1.824\n",
      "Epoch 4/10, iteration 2200, loss: 1.815\n",
      "Epoch 4/10, iteration 2400, loss: 1.815\n",
      "\n",
      "Epoch 5/10, iteration 200, loss: 1.802\n",
      "Epoch 5/10, iteration 400, loss: 1.796\n",
      "Epoch 5/10, iteration 600, loss: 1.775\n",
      "Epoch 5/10, iteration 800, loss: 1.764\n",
      "Epoch 5/10, iteration 1000, loss: 1.752\n",
      "Epoch 5/10, iteration 1200, loss: 1.767\n",
      "Epoch 5/10, iteration 1400, loss: 1.737\n",
      "Epoch 5/10, iteration 1600, loss: 1.720\n",
      "Epoch 5/10, iteration 1800, loss: 1.713\n",
      "Epoch 5/10, iteration 2000, loss: 1.695\n",
      "Epoch 5/10, iteration 2200, loss: 1.689\n",
      "Epoch 5/10, iteration 2400, loss: 1.688\n",
      "\n",
      "Epoch 6/10, iteration 200, loss: 1.692\n",
      "Epoch 6/10, iteration 400, loss: 1.667\n",
      "Epoch 6/10, iteration 600, loss: 1.650\n",
      "Epoch 6/10, iteration 800, loss: 1.661\n",
      "Epoch 6/10, iteration 1000, loss: 1.649\n",
      "Epoch 6/10, iteration 1200, loss: 1.637\n",
      "Epoch 6/10, iteration 1400, loss: 1.631\n",
      "Epoch 6/10, iteration 1600, loss: 1.629\n",
      "Epoch 6/10, iteration 1800, loss: 1.616\n",
      "Epoch 6/10, iteration 2000, loss: 1.618\n",
      "Epoch 6/10, iteration 2200, loss: 1.599\n",
      "Epoch 6/10, iteration 2400, loss: 1.601\n",
      "\n",
      "Epoch 7/10, iteration 200, loss: 1.601\n",
      "Epoch 7/10, iteration 400, loss: 1.587\n",
      "Epoch 7/10, iteration 600, loss: 1.580\n",
      "Epoch 7/10, iteration 800, loss: 1.558\n",
      "Epoch 7/10, iteration 1000, loss: 1.570\n",
      "Epoch 7/10, iteration 1200, loss: 1.555\n",
      "Epoch 7/10, iteration 1400, loss: 1.568\n",
      "Epoch 7/10, iteration 1600, loss: 1.540\n",
      "Epoch 7/10, iteration 1800, loss: 1.539\n",
      "Epoch 7/10, iteration 2000, loss: 1.554\n",
      "Epoch 7/10, iteration 2200, loss: 1.529\n",
      "Epoch 7/10, iteration 2400, loss: 1.529\n",
      "\n",
      "Epoch 8/10, iteration 200, loss: 1.531\n",
      "Epoch 8/10, iteration 400, loss: 1.520\n",
      "Epoch 8/10, iteration 600, loss: 1.530\n",
      "Epoch 8/10, iteration 800, loss: 1.512\n",
      "Epoch 8/10, iteration 1000, loss: 1.508\n",
      "Epoch 8/10, iteration 1200, loss: 1.507\n",
      "Epoch 8/10, iteration 1400, loss: 1.491\n",
      "Epoch 8/10, iteration 1600, loss: 1.499\n",
      "Epoch 8/10, iteration 1800, loss: 1.486\n",
      "Epoch 8/10, iteration 2000, loss: 1.483\n",
      "Epoch 8/10, iteration 2200, loss: 1.483\n",
      "Epoch 8/10, iteration 2400, loss: 1.455\n",
      "\n",
      "Epoch 9/10, iteration 200, loss: 1.462\n",
      "Epoch 9/10, iteration 400, loss: 1.476\n",
      "Epoch 9/10, iteration 600, loss: 1.458\n",
      "Epoch 9/10, iteration 800, loss: 1.453\n",
      "Epoch 9/10, iteration 1000, loss: 1.447\n",
      "Epoch 9/10, iteration 1200, loss: 1.460\n",
      "Epoch 9/10, iteration 1400, loss: 1.450\n",
      "Epoch 9/10, iteration 1600, loss: 1.448\n",
      "Epoch 9/10, iteration 1800, loss: 1.452\n",
      "Epoch 9/10, iteration 2000, loss: 1.409\n",
      "Epoch 9/10, iteration 2200, loss: 1.423\n",
      "Epoch 9/10, iteration 2400, loss: 1.429\n",
      "\n",
      "Epoch 10/10, iteration 200, loss: 1.414\n",
      "Epoch 10/10, iteration 400, loss: 1.415\n",
      "Epoch 10/10, iteration 600, loss: 1.420\n",
      "Epoch 10/10, iteration 800, loss: 1.379\n",
      "Epoch 10/10, iteration 1000, loss: 1.396\n",
      "Epoch 10/10, iteration 1200, loss: 1.404\n",
      "Epoch 10/10, iteration 1400, loss: 1.390\n",
      "Epoch 10/10, iteration 1600, loss: 1.379\n",
      "Epoch 10/10, iteration 1800, loss: 1.375\n",
      "Epoch 10/10, iteration 2000, loss: 1.377\n",
      "Epoch 10/10, iteration 2200, loss: 1.383\n",
      "Epoch 10/10, iteration 2400, loss: 1.389\n",
      "\n",
      "Finished Training\n"
     ]
    },
    {
     "data": {
      "text/plain": [
       "Sequential(\n",
       "  (0): Linear(in_features=312, out_features=39, bias=True)\n",
       ")"
      ]
     },
     "execution_count": 21,
     "metadata": {},
     "output_type": "execute_result"
    }
   ],
   "source": [
    "train_model(model, criterion, optimizer, train_loader, num_epochs=10)"
   ]
  },
  {
   "cell_type": "code",
   "execution_count": 22,
   "id": "fee4a871",
   "metadata": {},
   "outputs": [],
   "source": [
    "model.eval()\n",
    "logit_train = model(torch.FloatTensor(X_train))\n",
    "prob_train = F.softmax(logit_train, dim=-1).detach().numpy()"
   ]
  },
  {
   "cell_type": "code",
   "execution_count": 23,
   "id": "81fab5c3",
   "metadata": {},
   "outputs": [
    {
     "data": {
      "image/png": "[encoded data removed]",
      "text/plain": [
       "<Figure size 432x288 with 1 Axes>"
      ]
     },
     "metadata": {
      "needs_background": "light"
     },
     "output_type": "display_data"
    }
   ],
   "source": [
    "label = 10\n",
    "pre, rec, thr = precision_recall_curve(y_train == label, prob_train[:, label])\n",
    "\n",
    "plt.plot(thr, pre[:-1], label='precision')\n",
    "plt.plot(thr, rec[1:], label='recall')\n",
    "plt.xlabel('Threshold')\n",
    "plt.title('Precision & Recall vs Threshold', c='r', size=16)\n",
    "plt.legend()\n",
    "plt.show() "
   ]
  },
  {
   "cell_type": "code",
   "execution_count": 24,
   "id": "d6740372",
   "metadata": {},
   "outputs": [],
   "source": [
    "def recall_at_prec(true_label, probs, min_precision=0.7):\n",
    "    recalls, thresholds = [], []\n",
    "    for label in range(probs.shape[-1]):\n",
    "        try:\n",
    "            pre, rec, thr = precision_recall_curve(true_label == label, probs[:, label])\n",
    "            idx = np.where(pre > 0.7)[0][0]\n",
    "            if idx >= len(pre):\n",
    "                idx = len(pre) - 1\n",
    "            recalls.append(rec[idx])\n",
    "            thresholds.append(thr[idx - 1])\n",
    "        except Exception as e:\n",
    "            print(label, e)\n",
    "    return np.array(recalls), np.array(thresholds)"
   ]
  },
  {
   "cell_type": "code",
   "execution_count": 25,
   "id": "800f9a11",
   "metadata": {},
   "outputs": [
    {
     "data": {
      "text/plain": [
       "(array([0.69174603, 0.70396825, 0.7868254 , 0.59920635, 0.72571429,\n",
       "        0.79460317, 0.51857143, 0.7668254 , 0.62190476, 0.65809524,\n",
       "        0.01396825, 0.61650794, 0.82571429, 0.70634921, 0.81650794,\n",
       "        0.75047619, 0.3216978 , 0.66383472, 0.81313031, 0.8301212 ,\n",
       "        0.95783872, 0.13660172, 0.51023855, 0.65345235, 0.70121786,\n",
       "        0.        , 0.51873574, 0.78566384, 0.74812656, 0.21384425,\n",
       "        0.59662577, 0.19812793, 0.05602241, 0.29310345, 0.00671141,\n",
       "        0.46296296, 0.        , 0.14754098, 0.94444444]),\n",
       " array([0.2132085 , 0.21372826, 0.15489896, 0.22568774, 0.1734962 ,\n",
       "        0.17572308, 0.2408425 , 0.19575891, 0.17191991, 0.15822569,\n",
       "        0.45762247, 0.1867052 , 0.14074962, 0.14415628, 0.10700487,\n",
       "        0.13270418, 0.26615477, 0.17474626, 0.17427434, 0.13457808,\n",
       "        0.07289887, 0.1815476 , 0.2314267 , 0.27347612, 0.19472453,\n",
       "        0.6315226 , 0.27510968, 0.20302838, 0.22549285, 0.31107652,\n",
       "        0.49129722, 0.7275238 , 0.7310188 , 0.6711577 , 0.96050525,\n",
       "        0.81631064, 0.8856099 , 0.9246003 , 0.7720799 ], dtype=float32))"
      ]
     },
     "execution_count": 25,
     "metadata": {},
     "output_type": "execute_result"
    }
   ],
   "source": [
    "recalls_train, thresholds_train = recall_at_prec(y_train, prob_train, min_precision=0.7)\n",
    "recalls_train, thresholds_train"
   ]
  },
  {
   "cell_type": "code",
   "execution_count": 26,
   "id": "e9ef0b46",
   "metadata": {},
   "outputs": [
    {
     "data": {
      "text/plain": [
       "(tensor([0.6844, 0.6986, 0.7798, 0.5919, 0.7157, 0.7894, 0.5160, 0.7610, 0.6060,\n",
       "         0.6519, 0.0063, 0.6106, 0.8252, 0.6905, 0.8129, 0.7370, 0.3183, 0.6563,\n",
       "         0.8092, 0.8198, 0.9542, 0.1366, 0.5098, 0.6479, 0.6991, 0.0000, 0.5057,\n",
       "         0.7807, 0.7448, 0.2114, 0.5936, 0.1903, 0.0504, 0.2845, 0.0067, 0.4630,\n",
       "         0.0000, 0.1475, 0.9444]),\n",
       " tensor([2.2222e-01, 2.2222e-01, 1.6162e-01, 2.3232e-01, 1.8182e-01, 1.8182e-01,\n",
       "         2.4242e-01, 2.0202e-01, 1.8182e-01, 1.6162e-01, 5.2525e-01, 1.9192e-01,\n",
       "         1.4141e-01, 1.5152e-01, 1.1111e-01, 1.4141e-01, 2.7273e-01, 1.8182e-01,\n",
       "         1.8182e-01, 1.4141e-01, 8.0808e-02, 1.8182e-01, 2.3232e-01, 2.8283e-01,\n",
       "         2.0202e-01, 1.0000e+06, 2.8283e-01, 2.1212e-01, 2.3232e-01, 3.1313e-01,\n",
       "         4.9495e-01, 7.3737e-01, 7.5758e-01, 6.7677e-01, 9.7980e-01, 8.1818e-01,\n",
       "         1.0000e+06, 9.3939e-01, 7.8788e-01]))"
      ]
     },
     "execution_count": 26,
     "metadata": {},
     "output_type": "execute_result"
    }
   ],
   "source": [
    "BinnedRecallAtFixedPrecision(min_precision=0.7, \n",
    "                            num_classes=len(tags),\n",
    "                            thresholds=100,\n",
    "                            )(torch.FloatTensor(prob_train), torch.LongTensor(y_train))"
   ]
  },
  {
   "cell_type": "code",
   "execution_count": 27,
   "id": "f271ffad",
   "metadata": {},
   "outputs": [
    {
     "data": {
      "text/plain": [
       "0.5424878746695153"
      ]
     },
     "execution_count": 27,
     "metadata": {},
     "output_type": "execute_result"
    }
   ],
   "source": [
    "recalls_train.mean()"
   ]
  },
  {
   "cell_type": "code",
   "execution_count": 28,
   "id": "7a060520",
   "metadata": {},
   "outputs": [
    {
     "data": {
      "text/plain": [
       "(array([10, 21, 25, 31, 32, 34, 36, 37]),)"
      ]
     },
     "execution_count": 28,
     "metadata": {},
     "output_type": "execute_result"
    }
   ],
   "source": [
    "np.where(recalls_train < 0.2)"
   ]
  },
  {
   "cell_type": "code",
   "execution_count": 29,
   "id": "4563138e",
   "metadata": {},
   "outputs": [
    {
     "data": {
      "text/plain": [
       "array([\"{'закуски': 1}\", \"{'вегетарианская еда': 1}\", \"{'мясо': 1}\",\n",
       "       \"{'пирожки': 1}\", \"{'плов': 1}\", \"{'сырники и запеканки': 1}\",\n",
       "       \"{'азиатский суп': 1}\", \"{'омлет и яичница': 1}\"], dtype=object)"
      ]
     },
     "execution_count": 29,
     "metadata": {},
     "output_type": "execute_result"
    }
   ],
   "source": [
    "tags[np.where(recalls_train < 0.2)]"
   ]
  },
  {
   "cell_type": "code",
   "execution_count": 30,
   "id": "8730f1bc",
   "metadata": {},
   "outputs": [],
   "source": [
    "def recall_at_thresholds(true_label, probs, thresholds):\n",
    "    recalls = []\n",
    "    preds = probs > thresholds\n",
    "    for label in range(probs.shape[-1]):\n",
    "        try:\n",
    "            rec = recall_score(true_label == label, preds[:, label])\n",
    "            recalls.append(rec)\n",
    "        except Exception as e:\n",
    "            print(label, e)\n",
    "    return np.array(recalls)"
   ]
  },
  {
   "cell_type": "code",
   "execution_count": 31,
   "id": "93f83100",
   "metadata": {},
   "outputs": [
    {
     "data": {
      "text/plain": [
       "0.5424878746695153"
      ]
     },
     "execution_count": 31,
     "metadata": {},
     "output_type": "execute_result"
    }
   ],
   "source": [
    "recall_at_thresholds(y_train, prob_train, thresholds_train).mean()\n"
   ]
  },
  {
   "cell_type": "code",
   "execution_count": 32,
   "id": "68bcefca",
   "metadata": {},
   "outputs": [
    {
     "data": {
      "text/plain": [
       "0.5319723359927631"
      ]
     },
     "execution_count": 32,
     "metadata": {},
     "output_type": "execute_result"
    }
   ],
   "source": [
    "logit_valid = model(torch.FloatTensor(X_valid))\n",
    "prob_valid = F.softmax(logit_valid, dim=-1).detach().numpy()\n",
    "recall_at_thresholds(y_valid, prob_valid, thresholds_train).mean()"
   ]
  },
  {
   "cell_type": "code",
   "execution_count": 33,
   "id": "ec57b33f",
   "metadata": {},
   "outputs": [
    {
     "data": {
      "text/plain": [
       "array([0.68814815, 0.70259259, 0.77925926, 0.58518519, 0.73037037,\n",
       "       0.77925926, 0.51444444, 0.76814815, 0.63222222, 0.67592593,\n",
       "       0.01185185, 0.61851852, 0.82111111, 0.71111111, 0.81703704,\n",
       "       0.75259259, 0.30363289, 0.67927928, 0.80119926, 0.82939268,\n",
       "       0.96943649, 0.12616137, 0.5270936 , 0.65401102, 0.68308081,\n",
       "       0.        , 0.51291793, 0.78500824, 0.75413022, 0.2020202 ,\n",
       "       0.51971326, 0.17883212, 0.03267974, 0.22      , 0.        ,\n",
       "       0.36956522, 0.        , 0.15384615, 0.85714286])"
      ]
     },
     "execution_count": 33,
     "metadata": {},
     "output_type": "execute_result"
    }
   ],
   "source": [
    "recall_at_thresholds(y_valid, prob_valid, thresholds_train)"
   ]
  },
  {
   "cell_type": "code",
   "execution_count": null,
   "id": "7c5d0fe8",
   "metadata": {},
   "outputs": [],
   "source": []
  },
  {
   "cell_type": "code",
   "execution_count": null,
   "id": "35596d5e",
   "metadata": {},
   "outputs": [],
   "source": []
  },
  {
   "cell_type": "code",
   "execution_count": null,
   "id": "ddc17b14",
   "metadata": {},
   "outputs": [],
   "source": []
  }
 ],
 "metadata": {
  "kernelspec": {
   "display_name": "Python 3",
   "language": "python",
   "name": "python3"
  },
  "language_info": {
   "codemirror_mode": {
    "name": "ipython",
    "version": 3
   },
   "file_extension": ".py",
   "mimetype": "text/x-python",
   "name": "python",
   "nbconvert_exporter": "python",
   "pygments_lexer": "ipython3",
   "version": "3.8.10"
  }
 },
 "nbformat": 4,
 "nbformat_minor": 5
}
